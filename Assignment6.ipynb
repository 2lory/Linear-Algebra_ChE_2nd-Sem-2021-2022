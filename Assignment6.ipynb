{
  "nbformat": 4,
  "nbformat_minor": 0,
  "metadata": {
    "colab": {
      "name": "Assignment6.ipynb",
      "provenance": [],
      "authorship_tag": "ABX9TyMtqqybrZ9qiofF5irObaNy",
      "include_colab_link": true
    },
    "kernelspec": {
      "name": "python3",
      "display_name": "Python 3"
    },
    "language_info": {
      "name": "python"
    }
  },
  "cells": [
    {
      "cell_type": "markdown",
      "metadata": {
        "id": "view-in-github",
        "colab_type": "text"
      },
      "source": [
        "<a href=\"https://colab.research.google.com/github/2lory/Linear-Algebra_ChE_2nd-Sem-2021-2022/blob/main/Assignment6.ipynb\" target=\"_parent\"><img src=\"https://colab.research.google.com/assets/colab-badge.svg\" alt=\"Open In Colab\"/></a>"
      ]
    },
    {
      "cell_type": "markdown",
      "source": [
        "### Discussion"
      ],
      "metadata": {
        "id": "WfEan0ihTEaP"
      }
    },
    {
      "cell_type": "code",
      "source": [
        "import numpy as np\n",
        "import matplotlib.pyplot as plt\n",
        "%matplotlib inline"
      ],
      "metadata": {
        "id": "pX0aNlpMTE6y"
      },
      "execution_count": 1,
      "outputs": []
    },
    {
      "cell_type": "markdown",
      "source": [
        "### Transposition"
      ],
      "metadata": {
        "id": "pPbhvXI5Tccr"
      }
    },
    {
      "cell_type": "markdown",
      "source": [
        "$$A = \\begin{bmatrix} 2 & 5 & 8\\\\6 & 4 &1 \\\\ 1 & -5 & 9\\end{bmatrix} $$\n"
      ],
      "metadata": {
        "id": "7ajA7qgrUMf9"
      }
    },
    {
      "cell_type": "markdown",
      "source": [
        "$$ A^T = \\begin{bmatrix} 2 & 6 & 1\\\\5 & 4 &-5 \\\\ 8 & 1 & 9\\end{bmatrix}$$"
      ],
      "metadata": {
        "id": "C6xNy-HeXbrW"
      }
    },
    {
      "cell_type": "markdown",
      "source": [
        "$$B = \\begin{bmatrix} -3 & 1 & 4\\\\9 & 5 &6 \\\\ 10 & -2 & 7\\end{bmatrix} $$"
      ],
      "metadata": {
        "id": "HqYbkMvoUfs0"
      }
    },
    {
      "cell_type": "markdown",
      "source": [
        "$$ B^T = \\begin{bmatrix} -3 & 9 & 10\\\\1 & 5 &-2 \\\\ 4 & 6 & 7\\end{bmatrix}$$"
      ],
      "metadata": {
        "id": "bD8H3z0sYHAq"
      }
    },
    {
      "cell_type": "code",
      "source": [
        "A = np.array([\n",
        "     [2, 5, 8],\n",
        "     [6, 4, 1],\n",
        "     [1, -5, 9]\n",
        "])\n",
        "A"
      ],
      "metadata": {
        "colab": {
          "base_uri": "https://localhost:8080/"
        },
        "id": "pwwMbBW9VKX5",
        "outputId": "c0affccc-248a-4329-f71d-152ec292e51b"
      },
      "execution_count": 7,
      "outputs": [
        {
          "output_type": "execute_result",
          "data": {
            "text/plain": [
              "array([[ 2,  5,  8],\n",
              "       [ 6,  4,  1],\n",
              "       [ 1, -5,  9]])"
            ]
          },
          "metadata": {},
          "execution_count": 7
        }
      ]
    },
    {
      "cell_type": "code",
      "source": [
        "AT1 = np.transpose(A)\n",
        "AT1"
      ],
      "metadata": {
        "colab": {
          "base_uri": "https://localhost:8080/"
        },
        "id": "QX1DWQc1W0W3",
        "outputId": "9106c386-c0e9-4967-e618-dfe40f0620ea"
      },
      "execution_count": 8,
      "outputs": [
        {
          "output_type": "execute_result",
          "data": {
            "text/plain": [
              "array([[ 2,  6,  1],\n",
              "       [ 5,  4, -5],\n",
              "       [ 8,  1,  9]])"
            ]
          },
          "metadata": {},
          "execution_count": 8
        }
      ]
    },
    {
      "cell_type": "code",
      "source": [
        "AT2 = A.T\n",
        "AT2"
      ],
      "metadata": {
        "colab": {
          "base_uri": "https://localhost:8080/"
        },
        "id": "ZwOzEQWtW7l4",
        "outputId": "378b01f3-2c1e-4a16-b2a4-fe5692076a1e"
      },
      "execution_count": 9,
      "outputs": [
        {
          "output_type": "execute_result",
          "data": {
            "text/plain": [
              "array([[ 2,  6,  1],\n",
              "       [ 5,  4, -5],\n",
              "       [ 8,  1,  9]])"
            ]
          },
          "metadata": {},
          "execution_count": 9
        }
      ]
    },
    {
      "cell_type": "code",
      "source": [
        "np.array_equiv(AT1, AT2)"
      ],
      "metadata": {
        "colab": {
          "base_uri": "https://localhost:8080/"
        },
        "id": "jbNDBqebXCxJ",
        "outputId": "a4230cfe-8291-451e-dd66-da4ad3d9dcd8"
      },
      "execution_count": 10,
      "outputs": [
        {
          "output_type": "execute_result",
          "data": {
            "text/plain": [
              "True"
            ]
          },
          "metadata": {},
          "execution_count": 10
        }
      ]
    },
    {
      "cell_type": "code",
      "source": [
        "B = np.array([\n",
        "    [-3, 1, 4],\n",
        "    [9, 5, 6],\n",
        "    [10, -2, 7]\n",
        "])\n",
        "B.shape"
      ],
      "metadata": {
        "colab": {
          "base_uri": "https://localhost:8080/"
        },
        "id": "5yFHDnshY2bs",
        "outputId": "ddd9edcd-6f87-4a40-94f4-bf7ff9866d70"
      },
      "execution_count": 14,
      "outputs": [
        {
          "output_type": "execute_result",
          "data": {
            "text/plain": [
              "(3, 3)"
            ]
          },
          "metadata": {},
          "execution_count": 14
        }
      ]
    },
    {
      "cell_type": "code",
      "source": [
        "np.transpose(B).shape"
      ],
      "metadata": {
        "colab": {
          "base_uri": "https://localhost:8080/"
        },
        "id": "e1doNADIZQeq",
        "outputId": "b84fe664-e1cc-48ad-b614-702eba80e012"
      },
      "execution_count": 15,
      "outputs": [
        {
          "output_type": "execute_result",
          "data": {
            "text/plain": [
              "(3, 3)"
            ]
          },
          "metadata": {},
          "execution_count": 15
        }
      ]
    },
    {
      "cell_type": "code",
      "source": [
        "B.T.shape"
      ],
      "metadata": {
        "colab": {
          "base_uri": "https://localhost:8080/"
        },
        "id": "G45Ebu6TZSvH",
        "outputId": "33e92e98-d9aa-4931-b512-260d394df229"
      },
      "execution_count": 16,
      "outputs": [
        {
          "output_type": "execute_result",
          "data": {
            "text/plain": [
              "(3, 3)"
            ]
          },
          "metadata": {},
          "execution_count": 16
        }
      ]
    },
    {
      "cell_type": "code",
      "source": [
        "X = np.array([\n",
        "    [2,4],\n",
        "    [3,9]\n",
        "])\n",
        "Y = np.array([\n",
        "    [7,-5],\n",
        "    [6,6]\n",
        "])"
      ],
      "metadata": {
        "id": "MBsWggH_ZxpJ"
      },
      "execution_count": 17,
      "outputs": []
    },
    {
      "cell_type": "code",
      "source": [
        "np.array_equiv(X, Y)"
      ],
      "metadata": {
        "colab": {
          "base_uri": "https://localhost:8080/"
        },
        "id": "n5yStyNjZ7xj",
        "outputId": "a3560d06-1743-45ac-99b2-f7147cb80cc9"
      },
      "execution_count": 18,
      "outputs": [
        {
          "output_type": "execute_result",
          "data": {
            "text/plain": [
              "False"
            ]
          },
          "metadata": {},
          "execution_count": 18
        }
      ]
    },
    {
      "cell_type": "code",
      "source": [
        "np.dot(X,Y)"
      ],
      "metadata": {
        "colab": {
          "base_uri": "https://localhost:8080/"
        },
        "id": "qX6MM5rdZ91F",
        "outputId": "10fb6882-e91e-4fad-93b8-a02ad2daa421"
      },
      "execution_count": 19,
      "outputs": [
        {
          "output_type": "execute_result",
          "data": {
            "text/plain": [
              "array([[38, 14],\n",
              "       [75, 39]])"
            ]
          },
          "metadata": {},
          "execution_count": 19
        }
      ]
    },
    {
      "cell_type": "code",
      "source": [
        "X.dot(Y)"
      ],
      "metadata": {
        "colab": {
          "base_uri": "https://localhost:8080/"
        },
        "id": "5bphAW-paGjG",
        "outputId": "4de335ff-68c4-4c2e-d3f7-90cd10e81442"
      },
      "execution_count": 20,
      "outputs": [
        {
          "output_type": "execute_result",
          "data": {
            "text/plain": [
              "array([[38, 14],\n",
              "       [75, 39]])"
            ]
          },
          "metadata": {},
          "execution_count": 20
        }
      ]
    },
    {
      "cell_type": "code",
      "source": [
        "X @ Y"
      ],
      "metadata": {
        "colab": {
          "base_uri": "https://localhost:8080/"
        },
        "id": "pJEMUJ5iaIr2",
        "outputId": "4d6165d5-fd06-4944-f0c8-b7b9d5a77c81"
      },
      "execution_count": 21,
      "outputs": [
        {
          "output_type": "execute_result",
          "data": {
            "text/plain": [
              "array([[38, 14],\n",
              "       [75, 39]])"
            ]
          },
          "metadata": {},
          "execution_count": 21
        }
      ]
    },
    {
      "cell_type": "code",
      "source": [
        "np.matmul(X,Y)"
      ],
      "metadata": {
        "colab": {
          "base_uri": "https://localhost:8080/"
        },
        "id": "GIxGrwU8aKam",
        "outputId": "533d05a3-07f0-4f7a-8fe7-acd87fc0959d"
      },
      "execution_count": 22,
      "outputs": [
        {
          "output_type": "execute_result",
          "data": {
            "text/plain": [
              "array([[38, 14],\n",
              "       [75, 39]])"
            ]
          },
          "metadata": {},
          "execution_count": 22
        }
      ]
    },
    {
      "cell_type": "code",
      "source": [
        "A = np.array([\n",
        "    [6, 9],\n",
        "    [0, -4],\n",
        "    [8, 11]\n",
        "])\n",
        "B = np.array([\n",
        "    [0,0],\n",
        "    [9,6],\n",
        "    [-4,-5]\n",
        "])\n",
        "C = np.array([\n",
        "    [9,0,3],\n",
        "    [2,4,9]\n",
        "])\n",
        "print(A.shape)\n",
        "print(B.shape)\n",
        "print(C.shape)"
      ],
      "metadata": {
        "colab": {
          "base_uri": "https://localhost:8080/"
        },
        "id": "rR8r8qcJcjVv",
        "outputId": "a511820c-57f1-42da-8cbc-fb825a7ce56f"
      },
      "execution_count": 24,
      "outputs": [
        {
          "output_type": "stream",
          "name": "stdout",
          "text": [
            "(3, 2)\n",
            "(3, 2)\n",
            "(2, 3)\n"
          ]
        }
      ]
    },
    {
      "cell_type": "code",
      "source": [
        "A @ C"
      ],
      "metadata": {
        "colab": {
          "base_uri": "https://localhost:8080/"
        },
        "id": "UW7HV6Qic0LH",
        "outputId": "17945b95-3bd2-4ac6-aa57-a90ff4531fb8"
      },
      "execution_count": 25,
      "outputs": [
        {
          "output_type": "execute_result",
          "data": {
            "text/plain": [
              "array([[ 72,  36,  99],\n",
              "       [ -8, -16, -36],\n",
              "       [ 94,  44, 123]])"
            ]
          },
          "metadata": {},
          "execution_count": 25
        }
      ]
    },
    {
      "cell_type": "code",
      "source": [
        "B @ C"
      ],
      "metadata": {
        "colab": {
          "base_uri": "https://localhost:8080/"
        },
        "id": "iRdrYla8c2Ex",
        "outputId": "0b4f8258-00c4-4e13-a5d9-bd28eddfeeca"
      },
      "execution_count": 26,
      "outputs": [
        {
          "output_type": "execute_result",
          "data": {
            "text/plain": [
              "array([[  0,   0,   0],\n",
              "       [ 93,  24,  81],\n",
              "       [-46, -20, -57]])"
            ]
          },
          "metadata": {},
          "execution_count": 26
        }
      ]
    },
    {
      "cell_type": "code",
      "source": [
        "A @ B.T"
      ],
      "metadata": {
        "colab": {
          "base_uri": "https://localhost:8080/"
        },
        "id": "6BOnxZs7c653",
        "outputId": "cd750f7a-8b09-4ec5-a734-3ad029525bc3"
      },
      "execution_count": 27,
      "outputs": [
        {
          "output_type": "execute_result",
          "data": {
            "text/plain": [
              "array([[  0, 108, -69],\n",
              "       [  0, -24,  20],\n",
              "       [  0, 138, -87]])"
            ]
          },
          "metadata": {},
          "execution_count": 27
        }
      ]
    },
    {
      "cell_type": "code",
      "source": [
        "A = np.array([\n",
        "    [2, 8],\n",
        "    [-7, 5]\n",
        "])\n",
        "np.linalg.det(A)"
      ],
      "metadata": {
        "colab": {
          "base_uri": "https://localhost:8080/"
        },
        "id": "sOqg8HsdfR2x",
        "outputId": "a9608b31-f507-48cb-f974-899f50f4d6e5"
      },
      "execution_count": 28,
      "outputs": [
        {
          "output_type": "execute_result",
          "data": {
            "text/plain": [
              "65.99999999999997"
            ]
          },
          "metadata": {},
          "execution_count": 28
        }
      ]
    },
    {
      "cell_type": "code",
      "source": [
        "B = np.array([\n",
        "    [-5, 4 , 8],\n",
        "    [6, 0, 1],\n",
        "    [-3, -3, 2]\n",
        "])\n",
        "np.linalg.det(B)"
      ],
      "metadata": {
        "colab": {
          "base_uri": "https://localhost:8080/"
        },
        "id": "H-d1LWZCfdlP",
        "outputId": "44d47f31-66b3-432c-b70a-d3ff04ef7202"
      },
      "execution_count": 29,
      "outputs": [
        {
          "output_type": "execute_result",
          "data": {
            "text/plain": [
              "-218.99999999999983"
            ]
          },
          "metadata": {},
          "execution_count": 29
        }
      ]
    },
    {
      "cell_type": "code",
      "source": [
        "P = np.array([\n",
        "              [-1, 7, 5],\n",
        "              [3, 9, 0],\n",
        "              [2, 4, 10]\n",
        "])\n",
        "Q = np.linalg.inv(P)\n",
        "Q"
      ],
      "metadata": {
        "colab": {
          "base_uri": "https://localhost:8080/"
        },
        "id": "IXQXLYPrhSJD",
        "outputId": "d62593dc-a99e-4eb8-be8f-b12be25020a3"
      },
      "execution_count": 30,
      "outputs": [
        {
          "output_type": "execute_result",
          "data": {
            "text/plain": [
              "array([[-0.27272727,  0.15151515,  0.13636364],\n",
              "       [ 0.09090909,  0.06060606, -0.04545455],\n",
              "       [ 0.01818182, -0.05454545,  0.09090909]])"
            ]
          },
          "metadata": {},
          "execution_count": 30
        }
      ]
    },
    {
      "cell_type": "code",
      "source": [
        "P @ Q"
      ],
      "metadata": {
        "colab": {
          "base_uri": "https://localhost:8080/"
        },
        "id": "dxd33xZehg88",
        "outputId": "db5fa08e-2c6e-4624-e1fd-2d53982c43a9"
      },
      "execution_count": 31,
      "outputs": [
        {
          "output_type": "execute_result",
          "data": {
            "text/plain": [
              "array([[ 1.00000000e+00, -6.93889390e-18, -8.32667268e-17],\n",
              "       [ 8.32667268e-17,  1.00000000e+00,  6.93889390e-18],\n",
              "       [ 7.63278329e-17, -1.38777878e-17,  1.00000000e+00]])"
            ]
          },
          "metadata": {},
          "execution_count": 31
        }
      ]
    }
  ]
}